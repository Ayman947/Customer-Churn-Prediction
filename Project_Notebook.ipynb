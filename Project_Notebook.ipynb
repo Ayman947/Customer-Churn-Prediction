{
  "nbformat": 4,
  "nbformat_minor": 0,
  "metadata": {
    "colab": {
      "provenance": [],
      "collapsed_sections": [
        "JqLiqjD8-m9M",
        "unryeuU3-nAF",
        "7ho8e0nMO80o",
        "qfs-cPNsO-mB",
        "SCac8oFzZ6I7",
        "j0-zzyUDPJgu",
        "UhrPd6ojPNeI",
        "PJtfECQxNfDW",
        "qbVvJStO-nGZ",
        "zR-VCV6wP6nq",
        "j_XDKt4e-nJl"
      ],
      "include_colab_link": true
    },
    "kernelspec": {
      "name": "python3",
      "display_name": "Python 3"
    },
    "language_info": {
      "name": "python"
    }
  },
  "cells": [
    {
      "cell_type": "markdown",
      "metadata": {
        "id": "view-in-github",
        "colab_type": "text"
      },
      "source": [
        "<a href=\"https://colab.research.google.com/github/Ayman947/Customer-Churn-Prediction/blob/main/Project_Notebook.ipynb\" target=\"_parent\"><img src=\"https://colab.research.google.com/assets/colab-badge.svg\" alt=\"Open In Colab\"/></a>"
      ]
    },
    {
      "cell_type": "markdown",
      "source": [
        "# <font size=\"10\">📱👪📉 Telecom Customer Churn Prediction</font>"
      ],
      "metadata": {
        "id": "hQ5jPf2q-mWt"
      }
    },
    {
      "cell_type": "markdown",
      "source": [
        "## **1. Business Understanding** "
      ],
      "metadata": {
        "id": "JqLiqjD8-m9M"
      }
    },
    {
      "cell_type": "markdown",
      "source": [
        "**Background:** \n",
        "- Customer churn is the tendency of customers to cancel their subscriptions to a service they have been using.\n",
        "- Customer churn rate is the percentage of churned customers within a predefined time interval.\n",
        "- Churn rate is a very important indicator of customer satisfaction and the overall business wellness of the company.\n",
        "\n",
        "\n",
        "\n",
        "**Problem:** \n",
        "- At the telecom company, the marketing department detected that they are losing many of their customers (i.e. high churn rate).\n",
        "- So, they decided to launch retention campaigns, and to be efficient they need to target just the customers who have the tendency to churn.\n",
        "\n",
        "![image.png](data:image/png;base64,iVBORw0KGgoAAAANSUhEUgAAAUcAAACaCAIAAAC1/B15AAAXUUlEQVR4nO2dfXBU1fnHz+5mX4KQIFGCZIO85oUXNUkhs4JBQ6m4OKPU2dIgHfCFsQPBzoioodMxTie2TYtSSTotNoVQhFHihLYk1SDUzkCUMYZaEgzUGWYTGF2JsIkk+3Z3T/+4v+5v2fuy59577r3L3ecz+QPuveec75693z335ZznMWGMEQAABsKstwAAACgDrgYAowGuBgCjAa4GAKMBrgYAowGuBgCjAa4GAKMBrgYAowGuBgCjAa4GAKMBrgYAowGuBgCjAa4GAKMBrgYAowGuBgCjAa4GAKMBrgYAowGuBgCjAa4GAKMBrgYAowGuBgCjAa4GAKNB39XHjh3bunXr8uXLV69e/eqrr54/f556E+J89NFHGzduNJlMJpNp2rRpO3bsGBwc1FLAyMhIc3PzXXfdxWpYvnz5u+++q6UAhNCnn34a7wSTyfT8889r/EUEg8Hm5uaKiop4J+zfv19LARkNpkdPT09hYSG3iZqaGr/fT7EhIYaHh91uN+/HrKur00AAxritrU2oq3t6ejQQ4Pf7PR4Pr4Bt27ZpIABj3NHRIdQJ3d3d2mjIZKi5urW1VfznY2BggFZbvHi9XnEBbrc7EAioqqGhoUFcQ0dHh6oCfD5ffn6+iACXy6V2J+zatUu8E9ra2lQVANBxdXt7u/gXyeLz+ag0x2V4eJhEgMfjUUkAxripqYlEg3qDld/vF7c0S1VVlUoCMMGPO0tXV5d6GgAKrk45SMZxuVzKm+NF6JqTS2trqxoC+vr6CAUghFQaLTds2EAoYNeuXWoIGBgYIO8EbW7KMhMKrha6leVFjauvrq4ucgEqnU9VVVXkAhoaGqgL6Onp0b0TJJ0Jmj3pyECUulrSGIUQys/Pp6I7EUknE1JhuJbqKKTCcE1+tcLS1NREV4CkgVqlTkgTYkNDocbGcY9nrKBg3OMJ7tjBnDyppQClrk75fIgL3cdmPp9PqgC3201RAMa4rq5Oqga6d9d+v1+qgEWLFlEUgAkeknEx4N11MBhYv/46Qty/8crKaH+/NiqUvq+W8SZW6vAuzmeffSa1SGdnJ0UB8jR8/vnnFAV88cUXUoucPXs2GAxS1CD1Pggh9Mknn1AUoD+h0Pg990QPHODdGTt9OrBgAXP8uAZClLq6t7dXapFLly4pbDSR0dFRGaVGRkYoajh79qzUIl999RVFATIuWJDcrhNiaGhIapGrV69SFKA7geXLcarbkNB3v4upnv+86DBjNCsri2JtFotFRim73U5Rw+TJk6UWyc3NpSjAarXKKEW3EyZOnCi1yJQpUygK0BfmyJHY6dMkR4Z+9jO1xSh1tcvlklqkqKhIYaOJzJs3T2oRl8vlcDgoaigvL5dahG4nzJgxQ0YRur8sFRUVUovMnz+fogB9ifzhD4RHRvftQ6GQqmKUuvrhhx+WWuS+++5T2Ggic+bMkVpk7dq1FAUghKqrq6UWWbJkCUUBxcXFUos888wzFAUghB566CGpRR544AG6GnQk9t575AdHz51TTwlCiueBk09BYamtraXylC8Rqc/hh4eH6QqQ+ghajVe1hDPb4lCf5xcIBCQJUONM0JHreXm8j755/9R+0UVhFkptba2OJxOWaCrq72lZJJlKjRkgkkylxjQYTDxdlEW96cO6MFZSQu7q2NWrqoqh4Gry80m9tQ3d3d0kAlSdB044GUa9lVuEk2FUnQdOOBnGeG+qQ42NhJYer6xUWwyd1R0k1+EtLS1U2hJCZAkki6qWxhgHAoGU80bVPptFlkCyUJ+BwyXlr1t7e7vaGnQgGCR0deSDD9TWQm0lps/nE/k6tVlV29PTI/Q0WKULby5CN/kul8vr9WogoK+vb9GiRbwaVFrUwUWoE8rLy9VekKsjzMmTKS0drK/XQIkJYyz+yyqJY8eOvfnmm4cPH46fyk8//fS6devovkkSp7Oz85133unt7WUYZtasWW63e/369XTf4ogzODh44MCB999//8qVK9nZ2ffee++6detkvAJUwrFjx956663ETvB4PFOnTtVMwNdff33o0KGurq6LFy/q1QnaEz11KrhsmdBea3OzbfNmDWRQdnWckZERu92upZkBIB3Ao6ORAwei+/fHJ6WYCgosjz9ufeopM9VJCiJIdnUwGDxx4sTFixcZhhE6hmT2GFvc6XQuXrxY6iSKI0eOHD9+nHeapNSJazabbfHixVLHscHBwfb29jNnzoyPj3MFMAwjScb06dMffPDBlStXkhdBCHV2dp44cYI3JJuMTigrK1uzZo2kL4IdjXk7QYaM6dOnV1dXS11+pzOhEL5yJXblCvZ68ZUrlqVLzXPmoP/N2MPXrrH/MN16q9bCJF2vEz5qlgr5+1u/36/SVRz5I5yUj+XkUVVVRbgykeSxnDzI16imfCwnj/Ly8jSPphBpbw/W17OrLPnvnLdujRw9Ghsa0lGkBFdLnXAiCcI5Car+lpM80pOxlJocwndOqnYCyVN6uqvukigtLSXpBO2JtLcLOZn3b6yggOnt1UWqBFeXlpaq910ighe5kiY5yIAkogNJYDAlpIwVQxgiTgm6nwlqvwSVCnPy5HhlJbmfb5hGpoexSV0tY/WsVFK+ShV6YUMR8ZFKg05IGcxAxkoSqYjfjKh0F5aEeCdoRvT8edl+1tHYpKs7NFjg3tnZKbKOf2RkRMYyZqmIf8xzak/KR+js2bMia7+DwaCMBe1SOXnypMheuvEehNA4MQOX2IULwR/9KFBcTLi+UoRgeXn0zBkqqgghdfWXX36pqg4WkXX8IZUXr7GIr+OXF5xAKiKuHhsb00CAeBhmuvEehPj22281aIUXfOlS6MUXA8XFQlFNZBAsL8dUY1SIQ+pqbXpZZKymG45HCPHfDh1PNZZoNKqvAITQ9evX9ZagFnh0NPTTn44XFjKNjdQrD7/+OvU6hSB1dTgcVlUHyy233CK0S+pCP3lMmjRJg1bEEZm6o81PWzp0At2AOakJhcKvvTaem8u8+qpKLTD19fE32GqTXjkxtf4uOcgI00MduoGHZJAOrs7OztasrcihQ2MOR2TbNrUbCr/xhtpNsKSXq0VOaG2+ZpGLhXQgc2bgavNJmY6OMZMpvG6dBm0hdrhWPxQhSjdXA+lAOlywyAsyKY1QKCQ9PpdCwircsXMBVwMZSlTNaYJCMLt3GzNyMACkA8zbb+vSrgbDNbgayEhCIWb3bpIDzatWWZubHb295vvvp9KyBsO1zs+cAUAXxGP3Wtavt1RXWyor4ysrYxcuxD78kFbrwU2bsv/+d1q1cZE/VtfV1UmKLpoElaUaSlZQNTU1kSd8FqKhoUFG1rg4VOZUK1lBtWvXrm2K3+jU1dW1tLTILq7NxPIkmL/+VWiXdedOx5//bH3iCfP8+fHF0uFf/IJi67H33oupOftYvquXLVt2v9xrktLS0tWrV8tumiU/P7+iokJG2gqWoqIi5Qk0nE6n7AQUTqeTSgaPBQsWyO4Ep9M5a9YshQIKCgqUrOIqKytTKEAGIpff1ieeSNqCr12L7ttHV0BgwYLQiy+qdCku39VKZptlZWUpn3Di8/mCwWCav2EWwWyGhxr6EDt3Dn3zDe+urK1buaFLwr/5jRoymMbG8cLC0LPPxi5coFuz/BNLyZxkhmFEAiRpQyQSUV6Jkk+hzXoVDdD9q5QKI3yHbP3xj5M3hULqTSNFCDG7dweKiwM/+EH01CladSoaLrSYKgAAtGF+/3ve7eZVq8yc+6mwgkcGVuKXWLHDh4PLlgUeeICKtxW5Oh2WEAGAJGIXLmCBhfrW55/nboxs2SK7Ldv27bcEg1lbt5Jq+/DD4LJl404nc+SI7EYRvK/WEXlJpwGFCA2GpoKCrBUrkjZGDh2S3ZCZTU5kt9vfeMP+wQfkBfHly6E1a8Zuuy38u9/Jy4mbua4GU2UmjECiaeuvf83dGNm+XXZDWWvW/P+/V6yYMDJCPmgjhNA330S2bBl3OEKvvCJ1CWfmuhrIQPC1a0IRi6zf/37SFub4cXz5suy2LBUVif815eRIHbQRQhghpr5+fMoUSY/KwdVABsEI5I7Pqq9HnFXAEWUvtMx33snT0IoVE0ZGbAcPSp1/yuzeHf75z0mbllQ1ANzUMAJxl21PPZW0JXbuXEzgJ4AEy8aN3J8JFlNOjrWmJvsf/5gwNGRtbjYRR861EwdduGlcrU2EIy0xmUx6S8gs8Oho7H95HROxbNxocjqTNobq65W0Zfne91IeY3I6bZs3T/j3vycMDdn27DFXVoocbG1sJM/sQ+rqm26mgSHRJm6ZONpEsFMDU05O9vnz1p07TSUlidutzz6bdCS+dInX/+Rk3XefBGFOp3XTpuyPP2ZHb157W595hrxCUldTj1mre4gyXsRV0Y0xijFOh06QGjpKmylxKvWMuajI9txzEz7/3NHbm1Vfj/LyTCUlFs5EdIVLoE0lJdzBn6ig02nbvDn744+zz5+3NjbGf32sO3eacnLI69HtrOINUaZxXC5uUmstg+AhgU7QOBoh1z8aT63n/dLV7gRLWZmlrMz+0kuYk9ATj44SLr0WrFxielMu5qIi2/bttu3bY+fORQ4ftkmcCUM6VmvwTaudwooLN5jmlClTJB2vEO4JPWPGDI1/2nI4g8CtovdvakQg5a4506gT7HbuzWrkj39UWKululphDXHM8+fbX35Z6MGbYCnC47iWUzgJ3OFwJH2XFTe+30tC/FSTQSQSmTdvXtLGwsJCkSLcE1rJhSK7vCQpedjChQtFinAvLpTD/cjcbkmEeyYov1pO+tRqZ+cTJ6J4LYflO9+hokQ2pK6eO3du0hblo3fljU8Fli5dKnIwd0gpLS11OBxKbvjnzJmTtGXBggUix5fc+JQFIXTHHXfIbp1l+fLlif8V7wSuq5Vf4MycOTNpi/iq7zs5r2GnTZumUMPdd9+d+N9HH31UYYWyiZ46JbRIkxDZN9UUIXX1kiVLkrYUFxcrbPvhG+O2PvbYYyIHOxyOpNAlKzizdiURDoenTp2aOFTW1taKX/hxo0QUFxcrXNG57sZg1OKdgBBKij9TXV2NEIrFYvJaHxsby8vLS8xxX1NTk5eXJ1KEm5RT/PqChKRP/fjjjyusUDYiMVIIsfzwh1SUKII8fWaiAdistLKjFMUzj8cTrDc0NKQUMDAwkFiJ1+vFGMsOA8Lmcx0YGGCv96qqqgKBQEoNiabasGEDVpBQOp4uu6Ghgd3S2tqaUoDX602spK+vD2PslDs4sC16vV72y3W5XH6/P6WGxKBINTU1WFkOYLbOeKCopqamlALUQ1Leed6/yNGjOupnkeBqv9/f0NBQW1vb0tLCGkC5qzHGXq+X9ScJXq+3paWlra1teHiY3aLQ1Swkfo7T0dHR0tLS3d3N/le2q51OpzwBbCe0trb6fD52i0JXy9DQ1dWV2AnKXS1DA3Wi/f0KLX0dofHKSh0/AouE5xy5ubk7duyQ/eUJIcmWM2bMePLJJ6m0a7PZ4v+W9MQ1fn1BEUkCKHaCbA0rFb+8Ua6BOhFlM09YYqdPh155xf7yy8qrks1NM2MUANQm+u67VOph6usphiuSAbgaABBCCF+6JBQjRQahtWu1TEOfBLgaABBCiKEadh9fvhz6yU8oVigJcLVuwJqttII5eJBuhdF9+xSGH5MNuBoAEL52jTzhjokzGUmI0Jo1UoMTUQFcDQAo+s9/Eh5pWrRowr/+ZSooIDw++NBDckXJB1ytG+lwBX7zZj6hS4T48tve2ors9mziLFmx06fDfHEOVQVcDWQ6QjFSuJg9HnYxNhuAgbD+yAsvqJorj4uKrlaSJ5EKra2tNTU1OgpwOp1KJl2RIzIXvampSUnqUirokvWSnOgnnxAe6Xjttfi/zUVF5AFDgwQBjyiilqvdbvcjjzyiUuWEVFRUcBckacns2bO5q2I0pry8XPnCMiWUlpbqkvWSnOhf/kJyWFZ9fdJirKwVK6zNzSRl8eXLIU4cJfVQy9W5ubki+Xq0ieyje/ygiRMn6isA3TgxVhcmT56sr4CUEEY+sfHZ0rZ5c9YLLxC2otmEM7VcrdnJhDHWpiFAHmmeIyV65gzJYbY9e4RCfNp/9SvLxo0klQSXLdPmRRc8LQMyGqatLeUxpoIC66ZNIgc49u4Vj/sbJyglVKhswNVARhMlWE1sIzjGQfZYNHb4sAbX4eBqIHOJXbiQMpOW+f77ubkyuZhyciYMDZE0itUP6n7TuxruqwHZMEePpjzGTvaUGyFkcjodJ08qU0SHm97VACCb6N/+Jn6AZf168/z55BVali610V4lIgNwNZCh4EuXUq7oIE9YF8daU2NVlvpDOeBqIENhjh0TPyCrvp48Yd0NBfWefwWuBjIUZv9+8QPsL72kjRLqgKuBTIQ5flz88tt28KDUPDhxTBMmyCtIC3C1bsAqSB0JrV0rstdUUmJVsC7IdPvtsstSAVwNZByRvXvF0+7YlSXQw5okAxYBXA1kFnh0NCwaTd3s8VhEs52lxGS3I9GsRmqTua5O81UHgEqEX39d/IDERdQysdvNN6Y61ZjMdTWQgeBr15j6epEDbHv20MloGQhQqEQu4Goggwg995zIXlNJifjarJuFm97VChPNKkckOASQVsTOnYvu2ydygJ3eZE9TaSmtqmSgj6vhnhbQntCWLSJ7s7ZutdCLxGSaNIlWVTK46cdqACAh5bQTu+bxfdUDXA1kBOENG0T22tvbZc8k4wfebAGAqkT27hWJjmBetSrr0UfptmguKqJbobTWdWwbALQgFBKfdmL/7W/pN6p+wBMRwNUZjcVi0VuC6oR++UuRvdbGRn3HVTUAVwNGJsW0k7w83ijfyjHfc48a1ZK2rmPbGY7uSQgQvZftus8aEEI8Y4b97bcpPyRLD/RxNcWTQPdX37IvYhmGoatER3T/FniJnjkTPXBAaK9l40aS4KHUMaufIEmRq2+77TahXZMmTcrJyRHaW1hYqKTdRGbPni20Kzs7e+7cuUJ7Z8yYQUWAyGe5/fbbc3NzhfYuXLiQigCEUEVFhdCuiRMnOoUnNtPKQzZ9+nShXfn5+Q6HQ2hvVVUVFQG8WMrKsvv7zR4P71678lUcwpiFl1ibhH1BDawAn88nVG1rayvG2O128+7t6upS0m4iTU1NvE04nU4RhVVVVbQEYOHQxWwn1NXV8e7t7u6mJaBVOAw9xnh4eJh3l8vloiUAY5yfn8/bSktLC8a4oaGBdy/FM0GEaH9/YP366wjF/8J/+pOqLcauXk1sLvEvNjSkatMYY0WuxsKnbCAQwBh7vV7uLo/HQ0P5/xEIBHhH3fjpwmt7r9dLUUMbX1aX8vLyuELuGb9t2zaKAjDGpXwTj9vb29m9vLYfGBigKIA3p29paSl7JmA+22/YsIGigJRE+/vHPZ7rCI1XVqrd1s3tasz5GXa73T6fL743KXex2+1W3mISfr8/MUVzVVVV0jCYlEm7r6+PuoaOjo5EX9XV1cXPZoyxz+dLvGyhbmmMcSAQSOwEl8uVNAwmGbunp4e6hq6urkUJ64rr6ur8fn98r9/v9yRcDNfW1lIXQALT2xvt71e7FX1dbcI0cl8Eg8H+/n6E0MyZM/M4c+WCweCJEycuXrxYVFS0cuVK5c0JMTIyYrfbee/i4gpFbkGVEwwGQ6GQ0L304ODg5cuXCwoKaN3S85KyE8LhsMvlUk9AOnRCOhA5dAgFg7EvvkDffhvfGPvPfxxvvklnCbcwdFwNAED6AO+rAcBogKsBwGiAqwHAaICrAcBogKsBwGiAqwHAaICrAcBogKsBwGiAqwHAaICrAcBogKsBwGiAqwHAaICrAcBogKsBwGiAqwHAaICrAcBogKsBwGiAqwHAaICrAcBogKsBwGiAqwHAaICrAcBogKsBwGiAqwHAaICrAcBogKsBwGiAqwHAaICrAcBogKsBwGiAqwHAaPwXuJsX/6X6nU0AAAAASUVORK5CYII=)\n",
        "\n",
        "**Objective:** To determine the customers' tendency to churn.\n",
        "\n",
        "**Question:** Who will churn and who will not?\n",
        "\n",
        "**Analytics Solution / Methodology:** A supervised ML classification models will be built to predict the churn status of every customer."
      ],
      "metadata": {
        "id": "v-7fvx0GAgH8"
      }
    },
    {
      "cell_type": "markdown",
      "source": [
        "## **2. Data Understanding**"
      ],
      "metadata": {
        "id": "unryeuU3-nAF"
      }
    },
    {
      "cell_type": "markdown",
      "source": [
        "### 2.1 Importing packages"
      ],
      "metadata": {
        "id": "7ho8e0nMO80o"
      }
    },
    {
      "cell_type": "code",
      "source": [
        "#######################\n",
        "# importing packages ##\n",
        "#######################\n",
        "! pip install eli5\n",
        "! pip install imblearn\n",
        "import eli5\n",
        "import warnings\n",
        "import numpy as np\n",
        "import pandas as pd\n",
        "import seaborn as sns\n",
        "from sklearn.svm import SVC\n",
        "import matplotlib.pyplot as plt\n",
        "from xgboost import XGBClassifier\n",
        "from eli5.sklearn import PermutationImportance\n",
        "from sklearn.model_selection import GridSearchCV\n",
        "from sklearn.preprocessing import StandardScaler\n",
        "from imblearn.over_sampling import RandomOverSampler\n",
        "from sklearn.model_selection import train_test_split\n",
        "from sklearn.neighbors import KNeighborsClassifier\n",
        "from sklearn.linear_model import LogisticRegression\n",
        "from sklearn.ensemble import RandomForestClassifier as rf\n",
        "from sklearn.metrics import accuracy_score, classification_report, plot_confusion_matrix, roc_auc_score, plot_roc_curve, f1_score\n",
        "sns.despine()\n",
        "sns.set(style='darkgrid')\n",
        "warnings.filterwarnings(\"ignore\")\n",
        "pd.set_option('max_columns', None)\n",
        "np.set_printoptions(suppress=True, linewidth=100, precision=5)"
      ],
      "metadata": {
        "id": "FJ7SeZM4K52A",
        "colab": {
          "base_uri": "https://localhost:8080/",
          "height": 399
        },
        "outputId": "3918d4c9-bc92-4932-bd52-92f690bac5bf"
      },
      "execution_count": 80,
      "outputs": [
        {
          "output_type": "stream",
          "name": "stdout",
          "text": [
            "Looking in indexes: https://pypi.org/simple, https://us-python.pkg.dev/colab-wheels/public/simple/\n",
            "Requirement already satisfied: eli5 in /usr/local/lib/python3.8/dist-packages (0.13.0)\n",
            "Requirement already satisfied: tabulate>=0.7.7 in /usr/local/lib/python3.8/dist-packages (from eli5) (0.8.10)\n",
            "Requirement already satisfied: attrs>17.1.0 in /usr/local/lib/python3.8/dist-packages (from eli5) (22.2.0)\n",
            "Requirement already satisfied: scipy in /usr/local/lib/python3.8/dist-packages (from eli5) (1.7.3)\n",
            "Requirement already satisfied: jinja2>=3.0.0 in /usr/local/lib/python3.8/dist-packages (from eli5) (3.1.2)\n",
            "Requirement already satisfied: six in /usr/local/lib/python3.8/dist-packages (from eli5) (1.15.0)\n",
            "Requirement already satisfied: numpy>=1.9.0 in /usr/local/lib/python3.8/dist-packages (from eli5) (1.22.4)\n",
            "Requirement already satisfied: graphviz in /usr/local/lib/python3.8/dist-packages (from eli5) (0.10.1)\n",
            "Requirement already satisfied: scikit-learn>=0.20 in /usr/local/lib/python3.8/dist-packages (from eli5) (1.0.2)\n",
            "Requirement already satisfied: MarkupSafe>=2.0 in /usr/local/lib/python3.8/dist-packages (from jinja2>=3.0.0->eli5) (2.1.2)\n",
            "Requirement already satisfied: threadpoolctl>=2.0.0 in /usr/local/lib/python3.8/dist-packages (from scikit-learn>=0.20->eli5) (3.1.0)\n",
            "Requirement already satisfied: joblib>=0.11 in /usr/local/lib/python3.8/dist-packages (from scikit-learn>=0.20->eli5) (1.2.0)\n",
            "Looking in indexes: https://pypi.org/simple, https://us-python.pkg.dev/colab-wheels/public/simple/\n",
            "Requirement already satisfied: imblearn in /usr/local/lib/python3.8/dist-packages (0.0)\n",
            "Requirement already satisfied: imbalanced-learn in /usr/local/lib/python3.8/dist-packages (from imblearn) (0.8.1)\n",
            "Requirement already satisfied: numpy>=1.13.3 in /usr/local/lib/python3.8/dist-packages (from imbalanced-learn->imblearn) (1.22.4)\n",
            "Requirement already satisfied: joblib>=0.11 in /usr/local/lib/python3.8/dist-packages (from imbalanced-learn->imblearn) (1.2.0)\n",
            "Requirement already satisfied: scikit-learn>=0.24 in /usr/local/lib/python3.8/dist-packages (from imbalanced-learn->imblearn) (1.0.2)\n",
            "Requirement already satisfied: scipy>=0.19.1 in /usr/local/lib/python3.8/dist-packages (from imbalanced-learn->imblearn) (1.7.3)\n",
            "Requirement already satisfied: threadpoolctl>=2.0.0 in /usr/local/lib/python3.8/dist-packages (from scikit-learn>=0.24->imbalanced-learn->imblearn) (3.1.0)\n"
          ]
        },
        {
          "output_type": "display_data",
          "data": {
            "text/plain": [
              "<Figure size 432x288 with 0 Axes>"
            ]
          },
          "metadata": {}
        }
      ]
    },
    {
      "cell_type": "markdown",
      "source": [
        "### 2.2 Collecting Data"
      ],
      "metadata": {
        "id": "qfs-cPNsO-mB"
      }
    },
    {
      "cell_type": "code",
      "source": [
        "#####################\n",
        "## Collecting Data ##\n",
        "#####################\n",
        "df_raw = pd.read_csv('01 data-raw.csv')\n",
        "df_raw.shape"
      ],
      "metadata": {
        "id": "bcMKOaTfAQua",
        "colab": {
          "base_uri": "https://localhost:8080/"
        },
        "outputId": "a4ac3d2f-63e2-4e41-ca9a-d845cbe3a255"
      },
      "execution_count": 83,
      "outputs": [
        {
          "output_type": "execute_result",
          "data": {
            "text/plain": [
              "(7043, 21)"
            ]
          },
          "metadata": {},
          "execution_count": 83
        }
      ]
    },
    {
      "cell_type": "code",
      "source": [
        "#####################\n",
        "## Inspecting Data ##\n",
        "#####################\n",
        "def check(df):\n",
        "    l=[]\n",
        "    columns=df.columns\n",
        "    for col in columns:\n",
        "        dtypes=df[col].dtypes\n",
        "        nunique=df[col].nunique()\n",
        "        sum_null=df[col].isnull().sum()\n",
        "        l.append([col,dtypes,nunique,sum_null])\n",
        "    df_check=pd.DataFrame(l)\n",
        "    df_check.columns=['column','dtypes','nunique','sum_null']\n",
        "    return df_check \n",
        "check(df_raw)"
      ],
      "metadata": {
        "id": "eJy5WN8nyz4X",
        "colab": {
          "base_uri": "https://localhost:8080/",
          "height": 708
        },
        "outputId": "a80b66c8-1d20-49da-f713-2c19eb180ccd"
      },
      "execution_count": 84,
      "outputs": [
        {
          "output_type": "execute_result",
          "data": {
            "text/plain": [
              "              column   dtypes  nunique  sum_null\n",
              "0         customerID   object     7043         0\n",
              "1             gender   object        2         0\n",
              "2      SeniorCitizen    int64        2         0\n",
              "3            Partner   object        2         0\n",
              "4         Dependents   object        2         0\n",
              "5             tenure    int64       73         0\n",
              "6       PhoneService   object        2         0\n",
              "7      MultipleLines   object        3         0\n",
              "8    InternetService   object        3         0\n",
              "9     OnlineSecurity   object        3         0\n",
              "10      OnlineBackup   object        3         0\n",
              "11  DeviceProtection   object        3         0\n",
              "12       TechSupport   object        3         0\n",
              "13       StreamingTV   object        3         0\n",
              "14   StreamingMovies   object        3         0\n",
              "15          Contract   object        3         0\n",
              "16  PaperlessBilling   object        2         0\n",
              "17     PaymentMethod   object        4         0\n",
              "18    MonthlyCharges  float64     1585         0\n",
              "19      TotalCharges   object     6531         0\n",
              "20             Churn   object        2         0"
            ],
            "text/html": [
              "\n",
              "  <div id=\"df-0785d313-7114-498f-bc49-dce0d3e77a66\">\n",
              "    <div class=\"colab-df-container\">\n",
              "      <div>\n",
              "<style scoped>\n",
              "    .dataframe tbody tr th:only-of-type {\n",
              "        vertical-align: middle;\n",
              "    }\n",
              "\n",
              "    .dataframe tbody tr th {\n",
              "        vertical-align: top;\n",
              "    }\n",
              "\n",
              "    .dataframe thead th {\n",
              "        text-align: right;\n",
              "    }\n",
              "</style>\n",
              "<table border=\"1\" class=\"dataframe\">\n",
              "  <thead>\n",
              "    <tr style=\"text-align: right;\">\n",
              "      <th></th>\n",
              "      <th>column</th>\n",
              "      <th>dtypes</th>\n",
              "      <th>nunique</th>\n",
              "      <th>sum_null</th>\n",
              "    </tr>\n",
              "  </thead>\n",
              "  <tbody>\n",
              "    <tr>\n",
              "      <th>0</th>\n",
              "      <td>customerID</td>\n",
              "      <td>object</td>\n",
              "      <td>7043</td>\n",
              "      <td>0</td>\n",
              "    </tr>\n",
              "    <tr>\n",
              "      <th>1</th>\n",
              "      <td>gender</td>\n",
              "      <td>object</td>\n",
              "      <td>2</td>\n",
              "      <td>0</td>\n",
              "    </tr>\n",
              "    <tr>\n",
              "      <th>2</th>\n",
              "      <td>SeniorCitizen</td>\n",
              "      <td>int64</td>\n",
              "      <td>2</td>\n",
              "      <td>0</td>\n",
              "    </tr>\n",
              "    <tr>\n",
              "      <th>3</th>\n",
              "      <td>Partner</td>\n",
              "      <td>object</td>\n",
              "      <td>2</td>\n",
              "      <td>0</td>\n",
              "    </tr>\n",
              "    <tr>\n",
              "      <th>4</th>\n",
              "      <td>Dependents</td>\n",
              "      <td>object</td>\n",
              "      <td>2</td>\n",
              "      <td>0</td>\n",
              "    </tr>\n",
              "    <tr>\n",
              "      <th>5</th>\n",
              "      <td>tenure</td>\n",
              "      <td>int64</td>\n",
              "      <td>73</td>\n",
              "      <td>0</td>\n",
              "    </tr>\n",
              "    <tr>\n",
              "      <th>6</th>\n",
              "      <td>PhoneService</td>\n",
              "      <td>object</td>\n",
              "      <td>2</td>\n",
              "      <td>0</td>\n",
              "    </tr>\n",
              "    <tr>\n",
              "      <th>7</th>\n",
              "      <td>MultipleLines</td>\n",
              "      <td>object</td>\n",
              "      <td>3</td>\n",
              "      <td>0</td>\n",
              "    </tr>\n",
              "    <tr>\n",
              "      <th>8</th>\n",
              "      <td>InternetService</td>\n",
              "      <td>object</td>\n",
              "      <td>3</td>\n",
              "      <td>0</td>\n",
              "    </tr>\n",
              "    <tr>\n",
              "      <th>9</th>\n",
              "      <td>OnlineSecurity</td>\n",
              "      <td>object</td>\n",
              "      <td>3</td>\n",
              "      <td>0</td>\n",
              "    </tr>\n",
              "    <tr>\n",
              "      <th>10</th>\n",
              "      <td>OnlineBackup</td>\n",
              "      <td>object</td>\n",
              "      <td>3</td>\n",
              "      <td>0</td>\n",
              "    </tr>\n",
              "    <tr>\n",
              "      <th>11</th>\n",
              "      <td>DeviceProtection</td>\n",
              "      <td>object</td>\n",
              "      <td>3</td>\n",
              "      <td>0</td>\n",
              "    </tr>\n",
              "    <tr>\n",
              "      <th>12</th>\n",
              "      <td>TechSupport</td>\n",
              "      <td>object</td>\n",
              "      <td>3</td>\n",
              "      <td>0</td>\n",
              "    </tr>\n",
              "    <tr>\n",
              "      <th>13</th>\n",
              "      <td>StreamingTV</td>\n",
              "      <td>object</td>\n",
              "      <td>3</td>\n",
              "      <td>0</td>\n",
              "    </tr>\n",
              "    <tr>\n",
              "      <th>14</th>\n",
              "      <td>StreamingMovies</td>\n",
              "      <td>object</td>\n",
              "      <td>3</td>\n",
              "      <td>0</td>\n",
              "    </tr>\n",
              "    <tr>\n",
              "      <th>15</th>\n",
              "      <td>Contract</td>\n",
              "      <td>object</td>\n",
              "      <td>3</td>\n",
              "      <td>0</td>\n",
              "    </tr>\n",
              "    <tr>\n",
              "      <th>16</th>\n",
              "      <td>PaperlessBilling</td>\n",
              "      <td>object</td>\n",
              "      <td>2</td>\n",
              "      <td>0</td>\n",
              "    </tr>\n",
              "    <tr>\n",
              "      <th>17</th>\n",
              "      <td>PaymentMethod</td>\n",
              "      <td>object</td>\n",
              "      <td>4</td>\n",
              "      <td>0</td>\n",
              "    </tr>\n",
              "    <tr>\n",
              "      <th>18</th>\n",
              "      <td>MonthlyCharges</td>\n",
              "      <td>float64</td>\n",
              "      <td>1585</td>\n",
              "      <td>0</td>\n",
              "    </tr>\n",
              "    <tr>\n",
              "      <th>19</th>\n",
              "      <td>TotalCharges</td>\n",
              "      <td>object</td>\n",
              "      <td>6531</td>\n",
              "      <td>0</td>\n",
              "    </tr>\n",
              "    <tr>\n",
              "      <th>20</th>\n",
              "      <td>Churn</td>\n",
              "      <td>object</td>\n",
              "      <td>2</td>\n",
              "      <td>0</td>\n",
              "    </tr>\n",
              "  </tbody>\n",
              "</table>\n",
              "</div>\n",
              "      <button class=\"colab-df-convert\" onclick=\"convertToInteractive('df-0785d313-7114-498f-bc49-dce0d3e77a66')\"\n",
              "              title=\"Convert this dataframe to an interactive table.\"\n",
              "              style=\"display:none;\">\n",
              "        \n",
              "  <svg xmlns=\"http://www.w3.org/2000/svg\" height=\"24px\"viewBox=\"0 0 24 24\"\n",
              "       width=\"24px\">\n",
              "    <path d=\"M0 0h24v24H0V0z\" fill=\"none\"/>\n",
              "    <path d=\"M18.56 5.44l.94 2.06.94-2.06 2.06-.94-2.06-.94-.94-2.06-.94 2.06-2.06.94zm-11 1L8.5 8.5l.94-2.06 2.06-.94-2.06-.94L8.5 2.5l-.94 2.06-2.06.94zm10 10l.94 2.06.94-2.06 2.06-.94-2.06-.94-.94-2.06-.94 2.06-2.06.94z\"/><path d=\"M17.41 7.96l-1.37-1.37c-.4-.4-.92-.59-1.43-.59-.52 0-1.04.2-1.43.59L10.3 9.45l-7.72 7.72c-.78.78-.78 2.05 0 2.83L4 21.41c.39.39.9.59 1.41.59.51 0 1.02-.2 1.41-.59l7.78-7.78 2.81-2.81c.8-.78.8-2.07 0-2.86zM5.41 20L4 18.59l7.72-7.72 1.47 1.35L5.41 20z\"/>\n",
              "  </svg>\n",
              "      </button>\n",
              "      \n",
              "  <style>\n",
              "    .colab-df-container {\n",
              "      display:flex;\n",
              "      flex-wrap:wrap;\n",
              "      gap: 12px;\n",
              "    }\n",
              "\n",
              "    .colab-df-convert {\n",
              "      background-color: #E8F0FE;\n",
              "      border: none;\n",
              "      border-radius: 50%;\n",
              "      cursor: pointer;\n",
              "      display: none;\n",
              "      fill: #1967D2;\n",
              "      height: 32px;\n",
              "      padding: 0 0 0 0;\n",
              "      width: 32px;\n",
              "    }\n",
              "\n",
              "    .colab-df-convert:hover {\n",
              "      background-color: #E2EBFA;\n",
              "      box-shadow: 0px 1px 2px rgba(60, 64, 67, 0.3), 0px 1px 3px 1px rgba(60, 64, 67, 0.15);\n",
              "      fill: #174EA6;\n",
              "    }\n",
              "\n",
              "    [theme=dark] .colab-df-convert {\n",
              "      background-color: #3B4455;\n",
              "      fill: #D2E3FC;\n",
              "    }\n",
              "\n",
              "    [theme=dark] .colab-df-convert:hover {\n",
              "      background-color: #434B5C;\n",
              "      box-shadow: 0px 1px 3px 1px rgba(0, 0, 0, 0.15);\n",
              "      filter: drop-shadow(0px 1px 2px rgba(0, 0, 0, 0.3));\n",
              "      fill: #FFFFFF;\n",
              "    }\n",
              "  </style>\n",
              "\n",
              "      <script>\n",
              "        const buttonEl =\n",
              "          document.querySelector('#df-0785d313-7114-498f-bc49-dce0d3e77a66 button.colab-df-convert');\n",
              "        buttonEl.style.display =\n",
              "          google.colab.kernel.accessAllowed ? 'block' : 'none';\n",
              "\n",
              "        async function convertToInteractive(key) {\n",
              "          const element = document.querySelector('#df-0785d313-7114-498f-bc49-dce0d3e77a66');\n",
              "          const dataTable =\n",
              "            await google.colab.kernel.invokeFunction('convertToInteractive',\n",
              "                                                     [key], {});\n",
              "          if (!dataTable) return;\n",
              "\n",
              "          const docLinkHtml = 'Like what you see? Visit the ' +\n",
              "            '<a target=\"_blank\" href=https://colab.research.google.com/notebooks/data_table.ipynb>data table notebook</a>'\n",
              "            + ' to learn more about interactive tables.';\n",
              "          element.innerHTML = '';\n",
              "          dataTable['output_type'] = 'display_data';\n",
              "          await google.colab.output.renderOutput(dataTable, element);\n",
              "          const docLink = document.createElement('div');\n",
              "          docLink.innerHTML = docLinkHtml;\n",
              "          element.appendChild(docLink);\n",
              "        }\n",
              "      </script>\n",
              "    </div>\n",
              "  </div>\n",
              "  "
            ]
          },
          "metadata": {},
          "execution_count": 84
        }
      ]
    },
    {
      "cell_type": "markdown",
      "source": [
        "### 2.3 Data Dictionary"
      ],
      "metadata": {
        "id": "SCac8oFzZ6I7"
      }
    },
    {
      "cell_type": "markdown",
      "source": [
        "- **About:** The data set includes information about customers who left within the last month, services that each customer has signed up for, customer account information and demographic info about customers.\n",
        "\n",
        "- **Rows:** 7,043 customers.\n",
        "\n",
        "- **Columns:** 21 features.\n",
        "\n",
        "- **Data Dictionary:**\n",
        "\n",
        "| Column Name | Description | Sample Values |\n",
        "|-------------|-------------|---------------|\n",
        "| customerID       | The customer's unique identifier  | 7590-VHVEG |\n",
        "| gender      | The customer's gender  | Male, Female |\n",
        "| SeniorCitizen          | Indicates if the customer is 65 or older  | 0, 1 |\n",
        "| Dependents | Indicates if the customer lives with any dependents  | Yes, No |\n",
        "| tenure | Indicates the total amount of months that the customer has been with the company | 1, 5 or 10 or ... etc. |\n",
        "| PhoneService | Indicates if the customer subscribes to home phone service   | Yes, No |\n",
        "| MultipleLines | Indicates if the customer subscribes to multiple lines  service | Yes, No, No phone service |\n",
        "| InternetService          | Indicates if the customer subscribes to Internet service  | No, DSL, Fiber Optic |\n",
        "| OnlineSecurity          | Indicates if the customer subscribes to an additional online security service  | Yes, No, No internet service |\n",
        "| OnlineBackup          | Indicates if the customer subscribes to an additional online backup  | Yes, No, No internet service |\n",
        "| DeviceProtection          | Indicates if the customer subscribes to an additional device protection  | Yes, No, No internet service |\n",
        "| TechSupport          | Indicates if the customer subscribes to an additional technical support  | Yes, No, No internet service |\n",
        "| StreamingTV          | Indicates if the customer uses their Internet service to stream television  | Yes, No, No internet service |\n",
        "| StreamingMovies          | Indicates if the customer uses their Internet service to stream movies  | Yes, No, No internet service |\n",
        "| Contract          | Indicates the customer’s current contract type  | Month-to-Month, One Year, Two Year |\n",
        "| PaperlessBilling          | Indicates if the customer has chosen paperless billing  | Yes, No |\n",
        "| PaymentMethod | Indicates how the customer pays their bill  | Bank Withdrawal, Credit Card, Mailed Check |\n",
        "| MonthlyCharges | Indicates the customer’s current total monthly charge  | 29.85 |\n",
        "| TotalCharges | Indicates the customer’s total charges  | 1889.5 |\n",
        "| Churn          | Indicates if the customer churned within the last month or not   | Yes, No |"
      ],
      "metadata": {
        "id": "MhrlDk_XPEd2"
      }
    },
    {
      "cell_type": "markdown",
      "source": [
        "## **3. Data Preparation**"
      ],
      "metadata": {
        "id": "Cmt0TylM-nC5"
      }
    },
    {
      "cell_type": "markdown",
      "source": [
        "### 3.1 Data Cleaning"
      ],
      "metadata": {
        "id": "j0-zzyUDPJgu"
      }
    },
    {
      "cell_type": "code",
      "source": [
        "# dropping the customer ids column\n",
        "df_raw.drop( 'customerID', axis=1, inplace= True )"
      ],
      "metadata": {
        "id": "MLFXAxHsLuZh"
      },
      "execution_count": 85,
      "outputs": []
    },
    {
      "cell_type": "code",
      "source": [
        "# adjusting the total charges column data type \n",
        "df_raw['TotalCharges'] = pd.to_numeric(df_raw['TotalCharges'], errors='coerce')"
      ],
      "metadata": {
        "id": "ic-7Eg1R0OR1"
      },
      "execution_count": 86,
      "outputs": []
    },
    {
      "cell_type": "code",
      "source": [
        "# checking categorical classes\n",
        "cat_cols = df_raw.select_dtypes(exclude='number').columns\n",
        "for col in cat_cols:\n",
        "  print(f'({col}):\\n{df_raw[col].value_counts()}\\n\\n');"
      ],
      "metadata": {
        "colab": {
          "base_uri": "https://localhost:8080/"
        },
        "id": "1kxo_obV0Q9h",
        "outputId": "e3f0a42a-320f-4dd1-ba22-8f0ca6763537"
      },
      "execution_count": 87,
      "outputs": [
        {
          "output_type": "stream",
          "name": "stdout",
          "text": [
            "(gender):\n",
            "Male      3555\n",
            "Female    3488\n",
            "Name: gender, dtype: int64\n",
            "\n",
            "\n",
            "(Partner):\n",
            "No     3641\n",
            "Yes    3402\n",
            "Name: Partner, dtype: int64\n",
            "\n",
            "\n",
            "(Dependents):\n",
            "No     4933\n",
            "Yes    2110\n",
            "Name: Dependents, dtype: int64\n",
            "\n",
            "\n",
            "(PhoneService):\n",
            "Yes    6361\n",
            "No      682\n",
            "Name: PhoneService, dtype: int64\n",
            "\n",
            "\n",
            "(MultipleLines):\n",
            "No                  3390\n",
            "Yes                 2971\n",
            "No phone service     682\n",
            "Name: MultipleLines, dtype: int64\n",
            "\n",
            "\n",
            "(InternetService):\n",
            "Fiber optic    3096\n",
            "DSL            2421\n",
            "No             1526\n",
            "Name: InternetService, dtype: int64\n",
            "\n",
            "\n",
            "(OnlineSecurity):\n",
            "No                     3498\n",
            "Yes                    2019\n",
            "No internet service    1526\n",
            "Name: OnlineSecurity, dtype: int64\n",
            "\n",
            "\n",
            "(OnlineBackup):\n",
            "No                     3088\n",
            "Yes                    2429\n",
            "No internet service    1526\n",
            "Name: OnlineBackup, dtype: int64\n",
            "\n",
            "\n",
            "(DeviceProtection):\n",
            "No                     3095\n",
            "Yes                    2422\n",
            "No internet service    1526\n",
            "Name: DeviceProtection, dtype: int64\n",
            "\n",
            "\n",
            "(TechSupport):\n",
            "No                     3473\n",
            "Yes                    2044\n",
            "No internet service    1526\n",
            "Name: TechSupport, dtype: int64\n",
            "\n",
            "\n",
            "(StreamingTV):\n",
            "No                     2810\n",
            "Yes                    2707\n",
            "No internet service    1526\n",
            "Name: StreamingTV, dtype: int64\n",
            "\n",
            "\n",
            "(StreamingMovies):\n",
            "No                     2785\n",
            "Yes                    2732\n",
            "No internet service    1526\n",
            "Name: StreamingMovies, dtype: int64\n",
            "\n",
            "\n",
            "(Contract):\n",
            "Month-to-month    3875\n",
            "Two year          1695\n",
            "One year          1473\n",
            "Name: Contract, dtype: int64\n",
            "\n",
            "\n",
            "(PaperlessBilling):\n",
            "Yes    4171\n",
            "No     2872\n",
            "Name: PaperlessBilling, dtype: int64\n",
            "\n",
            "\n",
            "(PaymentMethod):\n",
            "Electronic check             2365\n",
            "Mailed check                 1612\n",
            "Bank transfer (automatic)    1544\n",
            "Credit card (automatic)      1522\n",
            "Name: PaymentMethod, dtype: int64\n",
            "\n",
            "\n",
            "(Churn):\n",
            "No     5174\n",
            "Yes    1869\n",
            "Name: Churn, dtype: int64\n",
            "\n",
            "\n"
          ]
        }
      ]
    },
    {
      "cell_type": "code",
      "source": [
        "# dealing with duplicates\n",
        "df_raw.drop_duplicates(inplace=True)\n",
        "df_raw.duplicated().value_counts()"
      ],
      "metadata": {
        "colab": {
          "base_uri": "https://localhost:8080/"
        },
        "id": "gfLeGPd80RAs",
        "outputId": "ba29ead4-1683-4436-d5eb-0b60ad55db23"
      },
      "execution_count": 88,
      "outputs": [
        {
          "output_type": "execute_result",
          "data": {
            "text/plain": [
              "False    7021\n",
              "dtype: int64"
            ]
          },
          "metadata": {},
          "execution_count": 88
        }
      ]
    },
    {
      "cell_type": "code",
      "source": [
        "# checking for Nulls\n",
        "df_raw.isnull().sum()"
      ],
      "metadata": {
        "colab": {
          "base_uri": "https://localhost:8080/"
        },
        "id": "8Mh2cKjQ0REA",
        "outputId": "dcd64712-3630-4b42-8617-e7b71127aba4"
      },
      "execution_count": 89,
      "outputs": [
        {
          "output_type": "execute_result",
          "data": {
            "text/plain": [
              "gender               0\n",
              "SeniorCitizen        0\n",
              "Partner              0\n",
              "Dependents           0\n",
              "tenure               0\n",
              "PhoneService         0\n",
              "MultipleLines        0\n",
              "InternetService      0\n",
              "OnlineSecurity       0\n",
              "OnlineBackup         0\n",
              "DeviceProtection     0\n",
              "TechSupport          0\n",
              "StreamingTV          0\n",
              "StreamingMovies      0\n",
              "Contract             0\n",
              "PaperlessBilling     0\n",
              "PaymentMethod        0\n",
              "MonthlyCharges       0\n",
              "TotalCharges        11\n",
              "Churn                0\n",
              "dtype: int64"
            ]
          },
          "metadata": {},
          "execution_count": 89
        }
      ]
    },
    {
      "cell_type": "code",
      "source": [
        "# dealing with nulls\n",
        "df_raw['TotalCharges'] = df_raw['TotalCharges'].fillna(df_raw['TotalCharges'].mean())"
      ],
      "metadata": {
        "id": "datbHH110RIX"
      },
      "execution_count": 90,
      "outputs": []
    },
    {
      "cell_type": "code",
      "source": [
        "# exporting clean data to a CSV file\n",
        "df_raw.to_csv('02 data-cleaned.csv', index=False)\n",
        "df_cleaned = df_raw"
      ],
      "metadata": {
        "id": "IeaKqOif0HxZ"
      },
      "execution_count": 91,
      "outputs": []
    },
    {
      "cell_type": "markdown",
      "source": [
        "### 3.2 Data Preprocessing"
      ],
      "metadata": {
        "id": "UhrPd6ojPNeI"
      }
    },
    {
      "cell_type": "code",
      "source": [
        "####################\n",
        "## Data Shuffling ##\n",
        "####################\n",
        "## To avoid any unintended order, especially the chronological one even if it is implicit.\n",
        "## As a result the data will be spread out representing the randomness in our data.\n",
        "\n",
        "df_shuffled = df_cleaned.sample(frac = 1, random_state=96)"
      ],
      "metadata": {
        "id": "1dgaLw5t2d6p"
      },
      "execution_count": 92,
      "outputs": []
    },
    {
      "cell_type": "code",
      "source": [
        "#######################################\n",
        "## Assigning inputs (X) & target (y) ##\n",
        "#######################################\n",
        "\n",
        "X = df_shuffled.drop(['Churn'], axis=1)\n",
        "y = df_shuffled[['Churn']]"
      ],
      "metadata": {
        "id": "-EB68kpx2d97"
      },
      "execution_count": 93,
      "outputs": []
    },
    {
      "cell_type": "code",
      "source": [
        "######################\n",
        "## One-Hot-Encoding ##\n",
        "######################\n",
        "\n",
        "categorical_inputs = X.select_dtypes(include=['object'])\n",
        "\n",
        "def dummy(df, cols_list):\n",
        "    for col in cols_list:\n",
        "        x = pd.get_dummies(df[col], prefix=col, drop_first=True)\n",
        "        df.drop( [col], axis=1, inplace= True)\n",
        "        df = pd.concat( [df, x], axis = 1)\n",
        "    return df\n",
        "\n",
        "X = dummy(X, categorical_inputs)\n",
        "y = dummy(y, y.columns)"
      ],
      "metadata": {
        "id": "pcnMbkNN2eAz"
      },
      "execution_count": 94,
      "outputs": []
    },
    {
      "cell_type": "code",
      "source": [
        "##################################################\n",
        "## Splitting the data into training and testing ##\n",
        "##################################################\n",
        "## This is to avoid over-fitting (i.e overcome the effect of noise data)\n",
        "## This makes the model generalized to be applied on OutOfSample data.\n",
        "\n",
        "X_train, X_test, y_train, y_test = train_test_split(X, y, test_size=0.2, random_state=96)\n",
        "print(\"*****\"*10)\n",
        "print(f'Total # of sample in whole dataset: {len(X)}')\n",
        "print(\"*****\"*10)\n",
        "print(f'Total # of sample in train dataset: {len(X_train)}')\n",
        "print(f'Shape of X_train: {X_train.shape}')\n",
        "print(\"*****\"*10)\n",
        "print(f'Total # of sample in test dataset: {len(X_test)}')\n",
        "print(f'Shape of X_test: {X_test.shape}')\n",
        "print(\"*****\"*10)"
      ],
      "metadata": {
        "colab": {
          "base_uri": "https://localhost:8080/"
        },
        "id": "-kB6__mO2eG5",
        "outputId": "411ffc35-bccd-4e32-922d-d38d8d2edf0a"
      },
      "execution_count": 95,
      "outputs": [
        {
          "output_type": "stream",
          "name": "stdout",
          "text": [
            "**************************************************\n",
            "Total # of sample in whole dataset: 7021\n",
            "**************************************************\n",
            "Total # of sample in train dataset: 5616\n",
            "Shape of X_train: (5616, 30)\n",
            "**************************************************\n",
            "Total # of sample in test dataset: 1405\n",
            "Shape of X_test: (1405, 30)\n",
            "**************************************************\n"
          ]
        }
      ]
    },
    {
      "cell_type": "code",
      "source": [
        "###########################################\n",
        "## Balancing the target variable classes ##\n",
        "###########################################\n",
        "## To avoid any potential bias that may affect our predictions\n",
        "\n",
        "## pre-balancing\n",
        "ax = plt.axes()\n",
        "y_train.value_counts().plot(kind='bar',)\n",
        "plt.title('Before Balancing', fontsize=18, weight=\"bold\")\n",
        "plt.xlabel('Churn Status')\n",
        "plt.ylabel('No. of customers')\n",
        "ax.set_xticklabels(['No', 'Yes'], rotation=0, size=12, weight=\"bold\")\n",
        "plt.show()\n",
        "print('\\n\\n')\n",
        "\n",
        "\n",
        "## balancing\n",
        "ros = RandomOverSampler(random_state=96);\n",
        "X_train, y_train = ros.fit_resample(X_train, y_train);\n",
        "\n",
        "\n",
        "## post-balancing\n",
        "ax = plt.axes()\n",
        "y_train.value_counts().plot(kind='bar',)\n",
        "plt.title('After Balancing', fontsize=18, weight=\"bold\")\n",
        "plt.xlabel('Churn Status')\n",
        "plt.ylabel('No. of customers')\n",
        "ax.set_xticklabels(['No', 'Yes'], rotation=0, size=12, weight=\"bold\")\n",
        "plt.show()\n",
        "print('\\n\\n')"
      ],
      "metadata": {
        "colab": {
          "base_uri": "https://localhost:8080/",
          "height": 703
        },
        "id": "zdchbqxv6GbF",
        "outputId": "b526cfa3-4f83-4af1-9f40-11a9bd55c5eb"
      },
      "execution_count": 96,
      "outputs": [
        {
          "output_type": "display_data",
          "data": {
            "text/plain": [
              "<Figure size 432x288 with 1 Axes>"
            ],
            "image/png": "[encoded data removed]"
          },
          "metadata": {}
        },
        {
          "output_type": "stream",
          "name": "stdout",
          "text": [
            "\n",
            "\n",
            "\n"
          ]
        },
        {
          "output_type": "display_data",
          "data": {
            "text/plain": [
              "<Figure size 432x288 with 1 Axes>"
            ],
            "image/png": "[encoded data removed]"
          },
          "metadata": {}
        },
        {
          "output_type": "stream",
          "name": "stdout",
          "text": [
            "\n",
            "\n",
            "\n"
          ]
        }
      ]
    },
    {
      "cell_type": "code",
      "source": [
        "##################\n",
        "## Data Scaling ##\n",
        "##################\n",
        "## We are going to standardize/scale the data to avoid the effect of high order magnitudes.\n",
        "## Simply, We are going to use the data in a relative not absolute form to put the data on the same footage. This will make our model attain more accurate results.\n",
        "## X ~ N(0, 1)\n",
        "\n",
        "scaler = StandardScaler()\n",
        "scaler.fit(X_train)\n",
        "\n",
        "X_train = scaler.transform(X_train)\n",
        "X_test  = scaler.transform(X_test)"
      ],
      "metadata": {
        "id": "djcSpTF99e1W"
      },
      "execution_count": 97,
      "outputs": []
    },
    {
      "cell_type": "code",
      "source": [
        "#######################################################\n",
        "## Feature Selection based on permutation importance ##\n",
        "#######################################################\n",
        "perm = PermutationImportance(rf(n_estimators=100, random_state=96).fit(X_train, y_train), random_state=96).fit(X_train, y_train)\n",
        "eli5.show_weights(perm, feature_names = X.columns.tolist())"
      ],
      "metadata": {
        "id": "imrTqfB2AwBq",
        "colab": {
          "base_uri": "https://localhost:8080/",
          "height": 399
        },
        "outputId": "9928398d-3179-4a0c-b0fa-664a7677159a"
      },
      "execution_count": 98,
      "outputs": [
        {
          "output_type": "execute_result",
          "data": {
            "text/plain": [
              "<IPython.core.display.HTML object>"
            ],
            "text/html": [
              "\n",
              "    <style>\n",
              "    table.eli5-weights tr:hover {\n",
              "        filter: brightness(85%);\n",
              "    }\n",
              "</style>\n",
              "\n",
              "\n",
              "\n",
              "    \n",
              "\n",
              "    \n",
              "\n",
              "    \n",
              "\n",
              "    \n",
              "\n",
              "    \n",
              "\n",
              "    \n",
              "\n",
              "\n",
              "    \n",
              "\n",
              "    \n",
              "\n",
              "    \n",
              "\n",
              "    \n",
              "\n",
              "    \n",
              "\n",
              "    \n",
              "\n",
              "\n",
              "    \n",
              "\n",
              "    \n",
              "\n",
              "    \n",
              "\n",
              "    \n",
              "\n",
              "    \n",
              "        <table class=\"eli5-weights eli5-feature-importances\" style=\"border-collapse: collapse; border: none; margin-top: 0em; table-layout: auto;\">\n",
              "    <thead>\n",
              "    <tr style=\"border: none;\">\n",
              "        <th style=\"padding: 0 1em 0 0.5em; text-align: right; border: none;\">Weight</th>\n",
              "        <th style=\"padding: 0 0.5em 0 0.5em; text-align: left; border: none;\">Feature</th>\n",
              "    </tr>\n",
              "    </thead>\n",
              "    <tbody>\n",
              "    \n",
              "        <tr style=\"background-color: hsl(120, 100.00%, 80.00%); border: none;\">\n",
              "            <td style=\"padding: 0 1em 0 0.5em; text-align: right; border: none;\">\n",
              "                0.1115\n",
              "                \n",
              "                    &plusmn; 0.0063\n",
              "                \n",
              "            </td>\n",
              "            <td style=\"padding: 0 0.5em 0 0.5em; text-align: left; border: none;\">\n",
              "                tenure\n",
              "            </td>\n",
              "        </tr>\n",
              "    \n",
              "        <tr style=\"background-color: hsl(120, 100.00%, 81.10%); border: none;\">\n",
              "            <td style=\"padding: 0 1em 0 0.5em; text-align: right; border: none;\">\n",
              "                0.1028\n",
              "                \n",
              "                    &plusmn; 0.0050\n",
              "                \n",
              "            </td>\n",
              "            <td style=\"padding: 0 0.5em 0 0.5em; text-align: left; border: none;\">\n",
              "                InternetService_Fiber optic\n",
              "            </td>\n",
              "        </tr>\n",
              "    \n",
              "        <tr style=\"background-color: hsl(120, 100.00%, 82.43%); border: none;\">\n",
              "            <td style=\"padding: 0 1em 0 0.5em; text-align: right; border: none;\">\n",
              "                0.0927\n",
              "                \n",
              "                    &plusmn; 0.0061\n",
              "                \n",
              "            </td>\n",
              "            <td style=\"padding: 0 0.5em 0 0.5em; text-align: left; border: none;\">\n",
              "                TotalCharges\n",
              "            </td>\n",
              "        </tr>\n",
              "    \n",
              "        <tr style=\"background-color: hsl(120, 100.00%, 85.11%); border: none;\">\n",
              "            <td style=\"padding: 0 1em 0 0.5em; text-align: right; border: none;\">\n",
              "                0.0731\n",
              "                \n",
              "                    &plusmn; 0.0041\n",
              "                \n",
              "            </td>\n",
              "            <td style=\"padding: 0 0.5em 0 0.5em; text-align: left; border: none;\">\n",
              "                MonthlyCharges\n",
              "            </td>\n",
              "        </tr>\n",
              "    \n",
              "        <tr style=\"background-color: hsl(120, 100.00%, 87.68%); border: none;\">\n",
              "            <td style=\"padding: 0 1em 0 0.5em; text-align: right; border: none;\">\n",
              "                0.0558\n",
              "                \n",
              "                    &plusmn; 0.0050\n",
              "                \n",
              "            </td>\n",
              "            <td style=\"padding: 0 0.5em 0 0.5em; text-align: left; border: none;\">\n",
              "                PaymentMethod_Electronic check\n",
              "            </td>\n",
              "        </tr>\n",
              "    \n",
              "        <tr style=\"background-color: hsl(120, 100.00%, 88.31%); border: none;\">\n",
              "            <td style=\"padding: 0 1em 0 0.5em; text-align: right; border: none;\">\n",
              "                0.0518\n",
              "                \n",
              "                    &plusmn; 0.0025\n",
              "                \n",
              "            </td>\n",
              "            <td style=\"padding: 0 0.5em 0 0.5em; text-align: left; border: none;\">\n",
              "                Contract_Two year\n",
              "            </td>\n",
              "        </tr>\n",
              "    \n",
              "        <tr style=\"background-color: hsl(120, 100.00%, 90.89%); border: none;\">\n",
              "            <td style=\"padding: 0 1em 0 0.5em; text-align: right; border: none;\">\n",
              "                0.0363\n",
              "                \n",
              "                    &plusmn; 0.0029\n",
              "                \n",
              "            </td>\n",
              "            <td style=\"padding: 0 0.5em 0 0.5em; text-align: left; border: none;\">\n",
              "                Contract_One year\n",
              "            </td>\n",
              "        </tr>\n",
              "    \n",
              "        <tr style=\"background-color: hsl(120, 100.00%, 92.18%); border: none;\">\n",
              "            <td style=\"padding: 0 1em 0 0.5em; text-align: right; border: none;\">\n",
              "                0.0291\n",
              "                \n",
              "                    &plusmn; 0.0027\n",
              "                \n",
              "            </td>\n",
              "            <td style=\"padding: 0 0.5em 0 0.5em; text-align: left; border: none;\">\n",
              "                PaperlessBilling_Yes\n",
              "            </td>\n",
              "        </tr>\n",
              "    \n",
              "        <tr style=\"background-color: hsl(120, 100.00%, 93.80%); border: none;\">\n",
              "            <td style=\"padding: 0 1em 0 0.5em; text-align: right; border: none;\">\n",
              "                0.0209\n",
              "                \n",
              "                    &plusmn; 0.0021\n",
              "                \n",
              "            </td>\n",
              "            <td style=\"padding: 0 0.5em 0 0.5em; text-align: left; border: none;\">\n",
              "                TechSupport_Yes\n",
              "            </td>\n",
              "        </tr>\n",
              "    \n",
              "        <tr style=\"background-color: hsl(120, 100.00%, 93.92%); border: none;\">\n",
              "            <td style=\"padding: 0 1em 0 0.5em; text-align: right; border: none;\">\n",
              "                0.0204\n",
              "                \n",
              "                    &plusmn; 0.0028\n",
              "                \n",
              "            </td>\n",
              "            <td style=\"padding: 0 0.5em 0 0.5em; text-align: left; border: none;\">\n",
              "                OnlineSecurity_Yes\n",
              "            </td>\n",
              "        </tr>\n",
              "    \n",
              "        <tr style=\"background-color: hsl(120, 100.00%, 94.16%); border: none;\">\n",
              "            <td style=\"padding: 0 1em 0 0.5em; text-align: right; border: none;\">\n",
              "                0.0192\n",
              "                \n",
              "                    &plusmn; 0.0023\n",
              "                \n",
              "            </td>\n",
              "            <td style=\"padding: 0 0.5em 0 0.5em; text-align: left; border: none;\">\n",
              "                gender_Male\n",
              "            </td>\n",
              "        </tr>\n",
              "    \n",
              "        <tr style=\"background-color: hsl(120, 100.00%, 94.65%); border: none;\">\n",
              "            <td style=\"padding: 0 1em 0 0.5em; text-align: right; border: none;\">\n",
              "                0.0170\n",
              "                \n",
              "                    &plusmn; 0.0013\n",
              "                \n",
              "            </td>\n",
              "            <td style=\"padding: 0 0.5em 0 0.5em; text-align: left; border: none;\">\n",
              "                Partner_Yes\n",
              "            </td>\n",
              "        </tr>\n",
              "    \n",
              "        <tr style=\"background-color: hsl(120, 100.00%, 95.01%); border: none;\">\n",
              "            <td style=\"padding: 0 1em 0 0.5em; text-align: right; border: none;\">\n",
              "                0.0154\n",
              "                \n",
              "                    &plusmn; 0.0016\n",
              "                \n",
              "            </td>\n",
              "            <td style=\"padding: 0 0.5em 0 0.5em; text-align: left; border: none;\">\n",
              "                SeniorCitizen\n",
              "            </td>\n",
              "        </tr>\n",
              "    \n",
              "        <tr style=\"background-color: hsl(120, 100.00%, 95.72%); border: none;\">\n",
              "            <td style=\"padding: 0 1em 0 0.5em; text-align: right; border: none;\">\n",
              "                0.0123\n",
              "                \n",
              "                    &plusmn; 0.0015\n",
              "                \n",
              "            </td>\n",
              "            <td style=\"padding: 0 0.5em 0 0.5em; text-align: left; border: none;\">\n",
              "                PaymentMethod_Mailed check\n",
              "            </td>\n",
              "        </tr>\n",
              "    \n",
              "        <tr style=\"background-color: hsl(120, 100.00%, 95.88%); border: none;\">\n",
              "            <td style=\"padding: 0 1em 0 0.5em; text-align: right; border: none;\">\n",
              "                0.0117\n",
              "                \n",
              "                    &plusmn; 0.0010\n",
              "                \n",
              "            </td>\n",
              "            <td style=\"padding: 0 0.5em 0 0.5em; text-align: left; border: none;\">\n",
              "                MultipleLines_Yes\n",
              "            </td>\n",
              "        </tr>\n",
              "    \n",
              "        <tr style=\"background-color: hsl(120, 100.00%, 95.95%); border: none;\">\n",
              "            <td style=\"padding: 0 1em 0 0.5em; text-align: right; border: none;\">\n",
              "                0.0114\n",
              "                \n",
              "                    &plusmn; 0.0011\n",
              "                \n",
              "            </td>\n",
              "            <td style=\"padding: 0 0.5em 0 0.5em; text-align: left; border: none;\">\n",
              "                Dependents_Yes\n",
              "            </td>\n",
              "        </tr>\n",
              "    \n",
              "        <tr style=\"background-color: hsl(120, 100.00%, 96.22%); border: none;\">\n",
              "            <td style=\"padding: 0 1em 0 0.5em; text-align: right; border: none;\">\n",
              "                0.0103\n",
              "                \n",
              "                    &plusmn; 0.0016\n",
              "                \n",
              "            </td>\n",
              "            <td style=\"padding: 0 0.5em 0 0.5em; text-align: left; border: none;\">\n",
              "                OnlineBackup_Yes\n",
              "            </td>\n",
              "        </tr>\n",
              "    \n",
              "        <tr style=\"background-color: hsl(120, 100.00%, 96.75%); border: none;\">\n",
              "            <td style=\"padding: 0 1em 0 0.5em; text-align: right; border: none;\">\n",
              "                0.0083\n",
              "                \n",
              "                    &plusmn; 0.0016\n",
              "                \n",
              "            </td>\n",
              "            <td style=\"padding: 0 0.5em 0 0.5em; text-align: left; border: none;\">\n",
              "                StreamingTV_Yes\n",
              "            </td>\n",
              "        </tr>\n",
              "    \n",
              "        <tr style=\"background-color: hsl(120, 100.00%, 96.77%); border: none;\">\n",
              "            <td style=\"padding: 0 1em 0 0.5em; text-align: right; border: none;\">\n",
              "                0.0082\n",
              "                \n",
              "                    &plusmn; 0.0007\n",
              "                \n",
              "            </td>\n",
              "            <td style=\"padding: 0 0.5em 0 0.5em; text-align: left; border: none;\">\n",
              "                StreamingMovies_Yes\n",
              "            </td>\n",
              "        </tr>\n",
              "    \n",
              "        <tr style=\"background-color: hsl(120, 100.00%, 96.87%); border: none;\">\n",
              "            <td style=\"padding: 0 1em 0 0.5em; text-align: right; border: none;\">\n",
              "                0.0079\n",
              "                \n",
              "                    &plusmn; 0.0019\n",
              "                \n",
              "            </td>\n",
              "            <td style=\"padding: 0 0.5em 0 0.5em; text-align: left; border: none;\">\n",
              "                DeviceProtection_Yes\n",
              "            </td>\n",
              "        </tr>\n",
              "    \n",
              "    \n",
              "        \n",
              "            <tr style=\"background-color: hsl(120, 100.00%, 96.87%); border: none;\">\n",
              "                <td colspan=\"2\" style=\"padding: 0 0.5em 0 0.5em; text-align: center; border: none; white-space: nowrap;\">\n",
              "                    <i>&hellip; 10 more &hellip;</i>\n",
              "                </td>\n",
              "            </tr>\n",
              "        \n",
              "    \n",
              "    </tbody>\n",
              "</table>\n",
              "    \n",
              "\n",
              "    \n",
              "\n",
              "\n",
              "    \n",
              "\n",
              "    \n",
              "\n",
              "    \n",
              "\n",
              "    \n",
              "\n",
              "    \n",
              "\n",
              "    \n",
              "\n",
              "\n",
              "\n"
            ]
          },
          "metadata": {},
          "execution_count": 98
        }
      ]
    },
    {
      "cell_type": "markdown",
      "source": [
        "## **4. Exploratory Data Analysis (EDA)**"
      ],
      "metadata": {
        "id": "PJtfECQxNfDW"
      }
    },
    {
      "cell_type": "code",
      "source": [
        "## Churn Status Breakdown\n",
        "\n",
        "plt.figure(1, figsize=(10,6), dpi = 100);\n",
        "plt.title(\"Breakdown of Customer Churn Status\");\n",
        "df_cleaned['Churn'].value_counts().plot.pie(autopct=\"%1.1f%%\");\n",
        "plt.savefig('EDA-churn-breakdown.png');"
      ],
      "metadata": {
        "id": "kYrGFq_aAfUD",
        "colab": {
          "base_uri": "https://localhost:8080/",
          "height": 512
        },
        "outputId": "1f637830-053a-4f40-fec8-067f5a5e5088"
      },
      "execution_count": 99,
      "outputs": [
        {
          "output_type": "display_data",
          "data": {
            "text/plain": [
              "<Figure size 1000x600 with 1 Axes>"
            ],
            "image/png": "[encoded data removed]"
          },
          "metadata": {}
        }
      ]
    },
    {
      "cell_type": "code",
      "source": [
        "## Churn vs Tenure\n",
        "\n",
        "plt.figure(figsize=(10, 6));\n",
        "sns.histplot(data=df_cleaned, x=\"tenure\", hue=\"Churn\", multiple=\"dodge\", shrink=.8)\n",
        "plt.show();\n",
        "plt.savefig('EDA-churn-vs-tenure');"
      ],
      "metadata": {
        "id": "KtzGF3yIBrdS",
        "colab": {
          "base_uri": "https://localhost:8080/",
          "height": 411
        },
        "outputId": "3c48105f-0549-4d2c-b534-4bdc809ba1e7"
      },
      "execution_count": 100,
      "outputs": [
        {
          "output_type": "display_data",
          "data": {
            "text/plain": [
              "<Figure size 720x432 with 1 Axes>"
            ],
            "image/png": "[encoded data removed]"
          },
          "metadata": {}
        },
        {
          "output_type": "display_data",
          "data": {
            "text/plain": [
              "<Figure size 432x288 with 0 Axes>"
            ]
          },
          "metadata": {}
        }
      ]
    },
    {
      "cell_type": "code",
      "source": [
        "## Churn vs InternetService\n",
        "\n",
        "plt.figure(figsize=(10, 6));\n",
        "sns.countplot(x='InternetService', hue='Churn', data=df_cleaned);\n",
        "plt.show();\n",
        "plt.savefig('EDA-churn-vs-internetService');"
      ],
      "metadata": {
        "id": "tDdxoGTPCtiA",
        "colab": {
          "base_uri": "https://localhost:8080/",
          "height": 411
        },
        "outputId": "4d5c9361-da8a-48a6-a879-b8ff078db1a1"
      },
      "execution_count": 101,
      "outputs": [
        {
          "output_type": "display_data",
          "data": {
            "text/plain": [
              "<Figure size 720x432 with 1 Axes>"
            ],
            "image/png": "[encoded data removed]"
          },
          "metadata": {}
        },
        {
          "output_type": "display_data",
          "data": {
            "text/plain": [
              "<Figure size 432x288 with 0 Axes>"
            ]
          },
          "metadata": {}
        }
      ]
    },
    {
      "cell_type": "code",
      "source": [
        "## Churn vs TotalCharges\n",
        "\n",
        "plt.figure(figsize=(10, 6));\n",
        "sns.histplot(data=df_cleaned, x=\"TotalCharges\", hue=\"Churn\", multiple=\"dodge\", shrink=.8)\n",
        "plt.show()\n",
        "plt.savefig('EDA-churn-vs-totalCharges');"
      ],
      "metadata": {
        "id": "1_3n7DN6FBQ6",
        "colab": {
          "base_uri": "https://localhost:8080/",
          "height": 411
        },
        "outputId": "50555f5a-192f-440e-eced-5a8c6bd1a657"
      },
      "execution_count": 102,
      "outputs": [
        {
          "output_type": "display_data",
          "data": {
            "text/plain": [
              "<Figure size 720x432 with 1 Axes>"
            ],
            "image/png": "[encoded data removed]"
          },
          "metadata": {}
        },
        {
          "output_type": "display_data",
          "data": {
            "text/plain": [
              "<Figure size 432x288 with 0 Axes>"
            ]
          },
          "metadata": {}
        }
      ]
    },
    {
      "cell_type": "code",
      "source": [
        "## Churn vs PaymentMethod\n",
        "\n",
        "plt.figure(figsize=(10, 6));\n",
        "sns.countplot(x='PaymentMethod', hue='Churn', data=df_cleaned);\n",
        "plt.show()\n",
        "plt.savefig('EDA-churn-vs-paymentMethod');"
      ],
      "metadata": {
        "id": "uFehYcH8Fchi",
        "colab": {
          "base_uri": "https://localhost:8080/",
          "height": 411
        },
        "outputId": "14851777-8013-49ff-b20e-0732f12cffba"
      },
      "execution_count": 103,
      "outputs": [
        {
          "output_type": "display_data",
          "data": {
            "text/plain": [
              "<Figure size 720x432 with 1 Axes>"
            ],
            "image/png": "[encoded data removed]"
          },
          "metadata": {}
        },
        {
          "output_type": "display_data",
          "data": {
            "text/plain": [
              "<Figure size 432x288 with 0 Axes>"
            ]
          },
          "metadata": {}
        }
      ]
    },
    {
      "cell_type": "code",
      "source": [
        "## Churn vs Contract\n",
        "\n",
        "plt.figure(figsize=(10, 6));\n",
        "sns.countplot(x='Contract', hue='Churn', data=df_cleaned);\n",
        "plt.show()\n",
        "plt.savefig('EDA-churn-vs-contract');"
      ],
      "metadata": {
        "id": "PNel4PYcFcvd",
        "colab": {
          "base_uri": "https://localhost:8080/",
          "height": 411
        },
        "outputId": "cb29c4e1-deda-46eb-ad1f-eb53c8953fa2"
      },
      "execution_count": 104,
      "outputs": [
        {
          "output_type": "display_data",
          "data": {
            "text/plain": [
              "<Figure size 720x432 with 1 Axes>"
            ],
            "image/png": "[encoded data removed]"
          },
          "metadata": {}
        },
        {
          "output_type": "display_data",
          "data": {
            "text/plain": [
              "<Figure size 432x288 with 0 Axes>"
            ]
          },
          "metadata": {}
        }
      ]
    },
    {
      "cell_type": "markdown",
      "source": [
        "## **5. Modeling & Evaluation**"
      ],
      "metadata": {
        "id": "_2Wlou7GA6Ed"
      }
    },
    {
      "cell_type": "code",
      "source": [
        "###############################################\n",
        "## Classification Models Evaluation Function ##\n",
        "###############################################\n",
        "\n",
        "def eval(model, X_test, y_test, y_pred):\n",
        "  print(f'F1-score = {f1_score(y_test, y_pred).round(3)}')\n",
        "  print(f'ROC Area under Curve = {roc_auc_score(y_test, y_pred).round(3)}')\n",
        "  # print(f'Accuracy = {accuracy_score(y_test, y_pred).round(3)}')\n",
        "  # print(classification_report(y_test, y_pred, digits=3))\n",
        "  # plot_confusion_matrix(model, X_test, y_test, cmap=plt.cm.pink)\n",
        "  # plot_roc_curve(model, X_test, y_test)"
      ],
      "metadata": {
        "id": "BHvbVIVTMR6S"
      },
      "execution_count": 105,
      "outputs": []
    },
    {
      "cell_type": "code",
      "source": [
        "################################\n",
        "## Logistic Regression  Model ##\n",
        "################################\n",
        "\n",
        "## Model\n",
        "LR  = LogisticRegression(random_state=96);\n",
        "LR = LR.fit(X_train, y_train);\n",
        "\n",
        "## Predictions\n",
        "y_pred_LR = LR.predict(X_test)\n",
        "\n",
        "## Evaluation\n",
        "eval(LR, X_test, y_test, y_pred_LR)"
      ],
      "metadata": {
        "colab": {
          "base_uri": "https://localhost:8080/"
        },
        "id": "YrX5eNZYSebW",
        "outputId": "ea392001-8622-4370-f53e-c3a5b7880ece"
      },
      "execution_count": 106,
      "outputs": [
        {
          "output_type": "stream",
          "name": "stdout",
          "text": [
            "F1-score = 0.63\n",
            "ROC Area under Curve = 0.766\n"
          ]
        }
      ]
    },
    {
      "cell_type": "code",
      "source": [
        "######################################\n",
        "##  k-nearest neighbors (KNN) Model ##\n",
        "######################################\n",
        "\n",
        "## Model\n",
        "knn  = KNeighborsClassifier();\n",
        "knn = knn.fit(X_train, y_train);\n",
        "\n",
        "## Predictions\n",
        "y_pred_knn = knn.predict(X_test)\n",
        "\n",
        "## Evaluation\n",
        "eval(knn, X_test, y_test, y_pred_knn)"
      ],
      "metadata": {
        "colab": {
          "base_uri": "https://localhost:8080/"
        },
        "id": "aZkEYHA4SeWD",
        "outputId": "40ca848f-9093-48b9-c1d5-7ba7b239e8f5"
      },
      "execution_count": 107,
      "outputs": [
        {
          "output_type": "stream",
          "name": "stdout",
          "text": [
            "F1-score = 0.556\n",
            "ROC Area under Curve = 0.699\n"
          ]
        }
      ]
    },
    {
      "cell_type": "code",
      "source": [
        "###################\n",
        "## XGBoost Model ##\n",
        "###################\n",
        "\n",
        "## Model\n",
        "xgb = XGBClassifier(learning_rate=0.02, n_estimators=600, objective='binary:logistic', nthread=1, random_state=96);\n",
        "xgb = xgb.fit(X_train, y_train);\n",
        "\n",
        "## Predictions\n",
        "y_pred_xgb = xgb.predict(X_test)\n",
        "\n",
        "## Evaluation\n",
        "eval(xgb, X_test, y_test, y_pred_xgb)"
      ],
      "metadata": {
        "colab": {
          "base_uri": "https://localhost:8080/"
        },
        "id": "45oXmy7CSdlz",
        "outputId": "0fce0516-415c-4eb5-b6bd-f6b51649658d"
      },
      "execution_count": 108,
      "outputs": [
        {
          "output_type": "stream",
          "name": "stdout",
          "text": [
            "F1-score = 0.614\n",
            "ROC Area under Curve = 0.744\n"
          ]
        }
      ]
    },
    {
      "cell_type": "code",
      "source": [
        "########################################\n",
        "## Support Vector Machine (SVM) Model ##\n",
        "########################################\n",
        "\n",
        "## Model\n",
        "svm  = SVC(random_state=96);\n",
        "svm = svm.fit(X_train, y_train);\n",
        "\n",
        "## Predictions\n",
        "y_pred_svm = svm.predict(X_test)\n",
        "\n",
        "## Evaluation\n",
        "eval(svm, X_test, y_test, y_pred_svm)"
      ],
      "metadata": {
        "colab": {
          "base_uri": "https://localhost:8080/"
        },
        "id": "_TdPgYMCSee5",
        "outputId": "2dc76199-2abd-49f6-b466-ef841964f0bd"
      },
      "execution_count": 109,
      "outputs": [
        {
          "output_type": "stream",
          "name": "stdout",
          "text": [
            "F1-score = 0.619\n",
            "ROC Area under Curve = 0.753\n"
          ]
        }
      ]
    },
    {
      "cell_type": "code",
      "source": [
        "###########################################################\n",
        "## Champion Model Optimization (i.e Logistic Regression) ##\n",
        "###########################################################\n",
        "\n",
        "## Model\n",
        "LR  = LogisticRegression(random_state=96);\n",
        "\n",
        "## Parameters\n",
        "param_LR = {'penalty': ['l1', 'l2'],\n",
        "            'C': [0.0001, 0.001, 0.01, 0.1, 1, 10, 100, 1000],\n",
        "            'solver': ['liblinear', 'saga']}\n",
        "\n",
        "## Hyper-parameter tuning (Optimization)\n",
        "gcv_LR = GridSearchCV(LR, param_LR, cv=5, verbose = 2, n_jobs = -1).fit(X_train, y_train);\n",
        "print(f'\\n\\nGridSearchView Best Params: {gcv_LR.best_params_}\\n\\n')\n",
        "\n",
        "## Optimized Predictions\n",
        "y_pred_LR = gcv_LR.predict(X_test)\n",
        "\n",
        "## Evaluation\n",
        "eval(gcv_LR, X_test, y_test, y_pred_LR)"
      ],
      "metadata": {
        "colab": {
          "base_uri": "https://localhost:8080/"
        },
        "id": "NCWhT1cSUQOm",
        "outputId": "971bc177-8232-4c4a-bb48-8dc68e7ae76b"
      },
      "execution_count": 111,
      "outputs": [
        {
          "output_type": "stream",
          "name": "stdout",
          "text": [
            "Fitting 5 folds for each of 32 candidates, totalling 160 fits\n",
            "\n",
            "\n",
            "GridSearchView Best Params: {'C': 1, 'penalty': 'l1', 'solver': 'saga'}\n",
            "\n",
            "\n",
            "F1-score = 0.631\n",
            "ROC Area under Curve = 0.767\n"
          ]
        }
      ]
    },
    {
      "cell_type": "markdown",
      "source": [
        "## **6. Results**\n",
        "\n"
      ],
      "metadata": {
        "id": "qbVvJStO-nGZ"
      }
    },
    {
      "cell_type": "markdown",
      "source": [
        "<div align=\"center\">\n",
        "\n",
        "\n",
        "---------------------------------------------------------------------\n",
        "---------------------------------------------------------------------\n",
        "**Models Performance Summary**\n",
        "\n",
        "\n",
        "|          Model             |      F1-Score         | AUC |\n",
        "|--------------------------------|-------------------------------|--|\n",
        "|<div align=\"center\">LR</div>|<div align=\"center\"><font color='green'>0.630</font></div>| <div align=\"center\"><font color='green'>0.766</font></div> |\n",
        "|<div align=\"center\">KNN</div>|<div align=\"center\"><font color='red'>0.556</font></div>| <div align=\"center\"><font color='red'>0.699</font></div> |\n",
        "|<div align=\"center\">XGBoost</div>|<div align=\"center\"><font color='red'>0.614</font></div>|<div align=\"center\"><font color='red'>0.744</font></div>|\n",
        "|<div align=\"center\">SVM</div>|<div align=\"center\"><font color='red'>0.619</font></div>|<div align=\"center\"><font color='red'>0.753</font></div>|\n",
        "\n",
        "</div>\n",
        "\n",
        "<div align=\"center\">\n",
        "\n",
        "The **Logistic Regression** model shows **better** performance over the other models according to:\n",
        "\n",
        " **F1-Score (i.e. 0.631 after optimization)**\n",
        " \n",
        " **AUC (i.e. 0.767 after optimization)**\n",
        "\n",
        "</div>\n",
        "\n",
        "---------------------------------------------------------------------\n",
        "---------------------------------------------------------------------"
      ],
      "metadata": {
        "id": "vYmtLsq9md0h"
      }
    },
    {
      "cell_type": "markdown",
      "source": [
        "## **7. Conclusion:**"
      ],
      "metadata": {
        "id": "zR-VCV6wP6nq"
      }
    },
    {
      "cell_type": "markdown",
      "source": [
        "- By applying the **Logistic Regression** model, we will approximately tell **who may churn** with **F-score = 0.631** and **AUC = 0.767**.\n",
        "\n",
        "\n",
        "- Thus, the marketing professionals can determine the **customers to target** through the retention campaign.\n",
        "\n",
        "- **(i.e. reduced costs & efficient business decisions)**"
      ],
      "metadata": {
        "id": "-VOIOqmpOAyf"
      }
    },
    {
      "cell_type": "markdown",
      "source": [
        "\n",
        "## **Author**\n",
        "\n",
        "- <a href=\"https://www.linkedin.com/in/ayman-altaweel\" target=\"_blank\">Ayman Altaweel - LinkedIn</a>\n",
        "\n",
        "- <a href=\"https://github.com/Ayman947?tab=repositories\" target=\"_blank\">Ayman Altaweel - Github</a>\n"
      ],
      "metadata": {
        "id": "CZllMLRMhwxt"
      }
    }
  ]
}